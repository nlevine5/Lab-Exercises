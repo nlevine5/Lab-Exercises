{
 "cells": [
  {
   "cell_type": "markdown",
   "id": "fc3ba4b4",
   "metadata": {},
   "source": [
    "## Lab 3 Question 1"
   ]
  },
  {
   "cell_type": "code",
   "execution_count": 7,
   "id": "6fac5dd3",
   "metadata": {},
   "outputs": [],
   "source": [
    "#1. False\n",
    "#2. False\n",
    "#3. True"
   ]
  },
  {
   "cell_type": "markdown",
   "id": "db690f29",
   "metadata": {},
   "source": [
    "## Lab 3 Question 2"
   ]
  },
  {
   "cell_type": "code",
   "execution_count": 37,
   "id": "db152e8f",
   "metadata": {},
   "outputs": [
    {
     "name": "stdout",
     "output_type": "stream",
     "text": [
      "['Dad', 'Mom', 'Nic', 'Ryan', 'Ava']\n",
      "['Dad', 'Mom', 'Nic', 'Ryan', 'Ava', 'Noodles']\n",
      "['Dad', 'Mom', 'Nic', 'Ryan', 'Ava', 'Noodles']\n",
      "1\n",
      "['Dad', 'Mom', 'Nic', 'Ryan', 'Ava', 'Noodles', 'Rusty']\n",
      "0\n",
      "['Dad', 'Mom', 'Nic', 'Tommy', 'Ryan', 'Ava', 'Noodles', 'Rusty']\n",
      "['Dad', 'Mom', 'Nic', 'Ryan', 'Ava', 'Noodles', 'Rusty']\n",
      "['Dad', 'Mom', 'Nic', 'Ryan', 'Ava', 'Noodles']\n",
      "['Noodles', 'Ava', 'Ryan', 'Nic', 'Mom', 'Dad']\n",
      "['Ava', 'Dad', 'Mom', 'Nic', 'Noodles', 'Ryan']\n",
      "6\n",
      "[]\n"
     ]
    }
   ],
   "source": [
    "family = ['Dad', 'Mom', 'Nic', 'Ryan', 'Ava']\n",
    "print(family)\n",
    "\n",
    "family.append('Noodles')\n",
    "print(family)\n",
    "\n",
    "print(family.copy())\n",
    "\n",
    "print(family.count('Dad'))\n",
    "\n",
    "newdog = ['Rusty']\n",
    "family.extend(newdog)\n",
    "print(family)\n",
    "\n",
    "print(family.index('Dad'))\n",
    "\n",
    "roommate = 'Tommy'\n",
    "family.insert(3, roommate)\n",
    "print(family)\n",
    "\n",
    "family.pop(3)\n",
    "print(family)\n",
    "\n",
    "family.remove('Rusty')\n",
    "print(family)\n",
    "\n",
    "family.reverse()\n",
    "print(family)\n",
    "\n",
    "family.sort()\n",
    "print(family)\n",
    "\n",
    "print(len(family))\n",
    "\n",
    "family.clear()\n",
    "print(family)"
   ]
  },
  {
   "cell_type": "markdown",
   "id": "efb14e48",
   "metadata": {},
   "source": [
    "## Lab 3 Question 3 "
   ]
  },
  {
   "cell_type": "code",
   "execution_count": 4,
   "id": "7ed91312",
   "metadata": {},
   "outputs": [
    {
     "name": "stdout",
     "output_type": "stream",
     "text": [
      "chips\n"
     ]
    }
   ],
   "source": [
    "lista = ['potatoes','macandcheese','PB&J','chips','banana']\n",
    "\n",
    "listb = tuple(lista)\n",
    "print(listb[-2])\n",
    "\n"
   ]
  },
  {
   "cell_type": "markdown",
   "id": "912164e8",
   "metadata": {},
   "source": [
    "## Lab 3 Question 4"
   ]
  },
  {
   "cell_type": "code",
   "execution_count": 43,
   "id": "98360d4f",
   "metadata": {},
   "outputs": [
    {
     "name": "stdout",
     "output_type": "stream",
     "text": [
      "{8, 9, 6, 7}\n"
     ]
    }
   ],
   "source": [
    "list1 = [6,7,8,9,9,8,7,6]\n",
    "\n",
    "list2 = set(list1)\n",
    "print(list2)"
   ]
  },
  {
   "cell_type": "markdown",
   "id": "d5dfd8f1",
   "metadata": {},
   "source": [
    "## Lab 3 Question 5 "
   ]
  },
  {
   "cell_type": "code",
   "execution_count": 52,
   "id": "933e8d84",
   "metadata": {},
   "outputs": [
    {
     "name": "stdout",
     "output_type": "stream",
     "text": [
      "{1, 2, 3, 4, 5, 6}\n",
      "{33, 11, 44, 22, 55}\n",
      "{33, 1, 2, 3, 4, 5, 6, 11, 44, 22, 55}\n",
      "{33, 'word', 22, 55, 11, 44}\n",
      "{'word', 22, 55, 11, 44}\n",
      "set()\n"
     ]
    }
   ],
   "source": [
    "set1 = {11,22,33,44,55}\n",
    "set2 = {1,2,3,4,5}\n",
    "\n",
    "set2.add(6)\n",
    "print(set2)\n",
    "\n",
    "setdiff = set1.difference(set2)\n",
    "print(setdiff)\n",
    "\n",
    "setboth = setdiff.union(set2)\n",
    "print(setboth)\n",
    "\n",
    "setup = {\"word\"}\n",
    "set1.update(setup)\n",
    "print(set1)\n",
    "\n",
    "set1.remove(33)\n",
    "print(set1)\n",
    "\n",
    "setint = set1.intersection(set2)\n",
    "print(setint)\n"
   ]
  },
  {
   "cell_type": "markdown",
   "id": "d85e2b29",
   "metadata": {},
   "source": [
    "## Lab 3 Question 6 "
   ]
  },
  {
   "cell_type": "code",
   "execution_count": 5,
   "id": "468f7793",
   "metadata": {},
   "outputs": [
    {
     "name": "stdout",
     "output_type": "stream",
     "text": [
      "I'm feeling fresh today!\n"
     ]
    }
   ],
   "source": [
    "tuple0 = ('funky','fresh', 'fit', 'funny', 'fair')\n",
    "word = tuple0[1]\n",
    "\n",
    "print(f\"I'm feeling {word} today!\")"
   ]
  },
  {
   "cell_type": "code",
   "execution_count": null,
   "id": "8260fc7d",
   "metadata": {},
   "outputs": [],
   "source": []
  }
 ],
 "metadata": {
  "kernelspec": {
   "display_name": "Python 3 (ipykernel)",
   "language": "python",
   "name": "python3"
  },
  "language_info": {
   "codemirror_mode": {
    "name": "ipython",
    "version": 3
   },
   "file_extension": ".py",
   "mimetype": "text/x-python",
   "name": "python",
   "nbconvert_exporter": "python",
   "pygments_lexer": "ipython3",
   "version": "3.9.12"
  }
 },
 "nbformat": 4,
 "nbformat_minor": 5
}
